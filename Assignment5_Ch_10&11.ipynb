{
  "cells": [
    {
      "cell_type": "markdown",
      "metadata": {
        "id": "view-in-github",
        "colab_type": "text"
      },
      "source": [
        "<a href=\"https://colab.research.google.com/github/huiseung02/huiseung_DTSC3020_Fall2025/blob/main/Assignment5_Ch_10%2611.ipynb\" target=\"_parent\"><img src=\"https://colab.research.google.com/assets/colab-badge.svg\" alt=\"Open In Colab\"/></a>"
      ]
    },
    {
      "cell_type": "markdown",
      "id": "9903d230",
      "metadata": {
        "id": "9903d230"
      },
      "source": [
        "# Assignment5: CRM Cleanup @ **DalaShop**\n",
        "*Files (Ch.10), Exceptions (Ch.10), Unit Tests (Ch.11), and Regular Expressions*  \n",
        ".....\n",
        "\n",
        "**Total: 3 points**  (Two questions, 1.5 pts each)  \n",
        "\n",
        "> This assignment is scenario-based and aligned with Python Crash Course Ch.10 (files & exceptions), Ch.11 (unit testing with `unittest`), and Regular Expressions."
      ]
    },
    {
      "cell_type": "markdown",
      "id": "d6487401",
      "metadata": {
        "id": "d6487401"
      },
      "source": [
        "## Scenario\n",
        "You are a data intern at an online retailer called **DalaShop**.  \n",
        "Sales exported a **raw contacts** file from the CRM. It contains customer names, emails, and phone numbers, but the formatting is messy and some emails are invalid.  \n",
        "Your tasks:\n",
        "\n",
        "1. **Clean** the contacts (Files + Exceptions + Regex).  \n",
        "2. **Write unit tests** to make sure your helper functions work correctly and keep working in the future."
      ]
    },
    {
      "cell_type": "markdown",
      "id": "0bd1712f",
      "metadata": {
        "id": "0bd1712f"
      },
      "source": [
        "## Data file (given by the company): `contacts_raw.txt`\n",
        "Use this exact sample data (you may extend it for your own testing, but do **not** change it when submitting).  \n",
        "Run the next cell once to create the file beside your notebook."
      ]
    },
    {
      "cell_type": "code",
      "execution_count": 1,
      "id": "c395a1a8",
      "metadata": {
        "id": "c395a1a8",
        "colab": {
          "base_uri": "https://localhost:8080/"
        },
        "outputId": "7dc922fa-c42f-4c30-8785-5bb287e343c1"
      },
      "outputs": [
        {
          "output_type": "stream",
          "name": "stdout",
          "text": [
            "Wrote contacts_raw.txt with sample DalaShop data.\n"
          ]
        }
      ],
      "source": [
        "# Create the provided company dataset file\n",
        "with open(\"contacts_raw.txt\", \"w\", encoding=\"utf-8\") as f:\n",
        "    f.write('Alice Johnson <alice@example.com> , +1 (469) 555-1234\\nBob Roberts <bob[at]example.com> , 972-555-777\\nSara M. , sara@mail.co , 214 555 8888\\n\"Mehdi A.\" <mehdi.ay@example.org> , (469)555-9999\\nDelaram <delaram@example.io>, +1-972-777-2121\\nNima <NIMA@example.io> , 972.777.2121\\nduplicate <Alice@Example.com> , 469 555 1234')\n",
        "print(\"Wrote contacts_raw.txt with sample DalaShop data.\")"
      ]
    },
    {
      "cell_type": "markdown",
      "id": "1b535f73",
      "metadata": {
        "id": "1b535f73"
      },
      "source": [
        "## Q1 (1.5 pts) — CRM cleanup with Files, Exceptions, and Regex\n",
        "Implement `q1_crm_cleanup.py` to:\n",
        "\n",
        "1. **Read** `contacts_raw.txt` using `pathlib` and `with`. If the file is missing, **handle** it gracefully with `try/except FileNotFoundError` (print a friendly message; do not crash).\n",
        "2. **Validate emails** with a simple regex (`r\"[A-Za-z0-9._%+-]+@[A-Za-z0-9.-]+\\.[A-Za-z]{2,}\"`).  \n",
        "   - Trim whitespace with `strip()` before checking.  \n",
        "   - Use **full** matching (not partial).\n",
        "3. **Normalize phone numbers:** remove all non-digits (e.g., with `re.sub(r\"\\D\", \"\", raw)`).  \n",
        "   - If the result has **≥ 10 digits**, keep the **last 10 digits**.  \n",
        "   - Otherwise, return an **empty string** (`\"\"`).\n",
        "4. **Filter rows:** keep **only** rows with a valid email.\n",
        "5. **Deduplicate:** remove duplicates by **email** using **case-insensitive** comparison (e.g., `email.casefold()`). **Keep the first occurrence** and drop later duplicates.\n",
        "6. **Output CSV:** write to `contacts_clean.csv` with **columns exactly** `name,email,phone` (UTF-8).  \n",
        "7. **Preserve input order:** the order of rows in `contacts_clean.csv` must match the **first appearance** order from the input file. **Do not sort** the rows.\n",
        "\n",
        "**Grading rubric (1.5 pts):**\n",
        "- (0.4) File read/write via `pathlib` + graceful `FileNotFoundError` handling  \n",
        "- (0.5) Correct email regex validation + filtering  \n",
        "- (0.4) Phone normalization + case-insensitive de-dup (keep first)  \n",
        "- (0.2) Clean code, clear names, minimal docstrings/comments"
      ]
    },
    {
      "cell_type": "code",
      "source": [
        "import re\n",
        "from pathlib import Path\n",
        "import csv\n",
        "\n",
        "def read_contacts(filename):\n",
        "    path = Path(filename)\n",
        "    try:\n",
        "        with path.open(encoding=\"utf-8\") as f:\n",
        "            return f.readlines()\n",
        "    except FileNotFoundError:\n",
        "        print(f\"File '{filename}' not found.\")\n",
        "        return []\n",
        "\n",
        "def validate_email(email):\n",
        "    email = email.strip()\n",
        "    if re.fullmatch(r\"[A-Za-z0-9._%+-]+@[A-Za-z0-9.-]+\\.[A-Za-z]{2,}\", email):\n",
        "        return email\n",
        "    return \"\"\n",
        "\n",
        "def normalize_phone(phone):\n",
        "    phone = re.sub(r\"\\D\", \"\", phone)\n",
        "    if len(phone) >= 10:\n",
        "        return phone[-10:]\n",
        "    else:\n",
        "        return \"\"\n",
        "\n",
        "def main():\n",
        "    input_file = \"contacts_raw.txt\"\n",
        "    output_file = \"contacts_clean.csv\"\n",
        "\n",
        "    lines = read_contacts(input_file)\n",
        "    if not lines:\n",
        "        return\n",
        "\n",
        "    cleaned_rows = []\n",
        "    seen_emails = set()\n",
        "\n",
        "    for line in lines:\n",
        "        parts = [p.strip() for p in line.split(\",\")]\n",
        "\n",
        "        if len(parts) == 2:\n",
        "            name_email, phone_raw = parts\n",
        "            match = re.search(r\"[A-Za-z0-9._%+-]+@[A-Za-z0-9.-]+\\.[A-Za-z]{2,}\", name_email)\n",
        "            if not match:\n",
        "                continue\n",
        "            email = match.group(0)\n",
        "            name = re.sub(r\"<.*?>\", \"\", name_email).strip()\n",
        "\n",
        "        elif len(parts) == 3:\n",
        "            name, email, phone_raw = parts\n",
        "\n",
        "        else:\n",
        "            continue\n",
        "\n",
        "        email = validate_email(email)\n",
        "        if not email:\n",
        "            continue\n",
        "\n",
        "        email_key = email.casefold()\n",
        "        if email_key in seen_emails:\n",
        "            continue\n",
        "        seen_emails.add(email_key)\n",
        "\n",
        "        phone = normalize_phone(phone_raw)\n",
        "        cleaned_rows.append([name.strip(), email, phone])\n",
        "\n",
        "    with open(output_file, \"w\", encoding=\"utf-8\", newline=\"\") as f:\n",
        "        writer = csv.writer(f)\n",
        "        writer.writerow([\"name\", \"email\", \"phone\"])\n",
        "        writer.writerows(cleaned_rows)\n",
        "\n",
        "    print(f\"Cleaned contacts written to {output_file}\")\n",
        "\n",
        "if __name__ == \"__main__\":\n",
        "    main()"
      ],
      "metadata": {
        "id": "gO9xaHmKNlax",
        "colab": {
          "base_uri": "https://localhost:8080/"
        },
        "outputId": "1871ef17-7d66-4449-f703-ac0de79a4ca2"
      },
      "id": "gO9xaHmKNlax",
      "execution_count": 21,
      "outputs": [
        {
          "output_type": "stream",
          "name": "stdout",
          "text": [
            "Cleaned contacts written to contacts_clean.csv\n"
          ]
        }
      ]
    },
    {
      "cell_type": "markdown",
      "id": "258c5b04",
      "metadata": {
        "id": "258c5b04"
      },
      "source": [
        "## Q2 (1.5 pts) — Unit testing with `unittest`\n",
        "Create tests in `test_crm_cleanup.py` that cover at least:\n",
        "\n",
        "1. **Email validation**: valid/invalid variations.  \n",
        "2. **Phone normalization**: parentheses, dashes, spaces, country code; too-short cases.  \n",
        "3. **Parsing**: from a small multi-line string (not from a file), assert the exact structured rows (name/email/phone).  \n",
        "4. **De-duplication**: demonstrate that a case-variant duplicate email is dropped (first occurrence kept).\n",
        "\n",
        "\n"
      ]
    },
    {
      "cell_type": "code",
      "source": [
        "# Write your answer\n",
        "import unittest\n",
        "import re\n",
        "\n",
        "class TestCRMCleanup(unittest.TestCase):\n",
        "    def test_validate_email_valid(self):\n",
        "        valid_cases = [\n",
        "            \"user@example.com\",\n",
        "            \"john.doe@domain.co\",\n",
        "            \"alice_bob123@company.org\",\n",
        "            \"USER+test@Example.NET\"\n",
        "        ]\n",
        "        for email in valid_cases:\n",
        "            self.assertEqual(validate_email(email), email.strip())\n",
        "\n",
        "    def test_validate_email_invalid(self):\n",
        "        invalid_cases = [\n",
        "            \"user@@example.com\",\n",
        "            \"userexample.com\",\n",
        "            \"wrong@domain\",\n",
        "            \"user@.com\",\n",
        "            \"@missinguser.com\"\n",
        "        ]\n",
        "        for email in invalid_cases:\n",
        "            self.assertEqual(validate_email(email), \"\")\n",
        "\n",
        "    def test_normalize_phone(self):\n",
        "        self.assertEqual(normalize_phone(\"(469) 555-1234\"), \"4695551234\")\n",
        "        self.assertEqual(normalize_phone(\"972-555-8888\"), \"9725558888\")\n",
        "        self.assertEqual(normalize_phone(\"+1 214 555 9999\"), \"2145559999\")\n",
        "        self.assertEqual(normalize_phone(\"12345\"), \"\")\n",
        "        self.assertEqual(normalize_phone(\"001234567890\"), \"1234567890\")\n",
        "\n",
        "    def test_parsing(self):\n",
        "        data = \"\"\"Alice <alice@example.com>, (469) 555-1234\n",
        "Bob <bob@example.org>, +1 972-555-8888\"\"\"\n",
        "        lines = data.strip().split(\"\\n\")\n",
        "        rows = []\n",
        "        for line in lines:\n",
        "            name_email, phone = line.split(\",\")\n",
        "            name_email = name_email.strip()\n",
        "            phone = phone.strip()\n",
        "            match = re.search(r\"[A-Za-z0-9._%+-]+@[A-Za-z0-9.-]+\\.[A-Za-z]{2,}\", name_email)\n",
        "            if not match:\n",
        "                continue\n",
        "            email = match.group(0)\n",
        "            name = re.sub(r\"<.*?>\", \"\", name_email).strip()\n",
        "            phone = normalize_phone(phone)\n",
        "            rows.append((name, email, phone))\n",
        "        expected = [\n",
        "            (\"Alice\", \"alice@example.com\", \"4695551234\"),\n",
        "            (\"Bob\", \"bob@example.org\", \"9725558888\")\n",
        "        ]\n",
        "        self.assertEqual(rows, expected)\n",
        "\n",
        "    def test_deduplication(self):\n",
        "        data = [\n",
        "            \"Alice <alice@example.com>, (469) 555-1234\",\n",
        "            \"Bob <bob@example.org>, +1 972-555-8888\",\n",
        "            \"Duplicate <ALICE@EXAMPLE.COM>, 111-111-1111\"\n",
        "        ]\n",
        "        seen = set()\n",
        "        rows = []\n",
        "        for line in data:\n",
        "            name_email, phone = line.split(\",\")\n",
        "            name_email = name_email.strip()\n",
        "            phone = phone.strip()\n",
        "            match = re.search(r\"[A-Za-z0-9._%+-]+@[A-Za-z0-9.-]+\\.[A-Za-z]{2,}\", name_email)\n",
        "            if not match:\n",
        "                continue\n",
        "            email = match.group(0)\n",
        "            name = re.sub(r\"<.*?>\", \"\", name_email).strip()\n",
        "            email_key = email.casefold()\n",
        "            if email_key in seen:\n",
        "                continue\n",
        "            seen.add(email_key)\n",
        "            phone = normalize_phone(phone)\n",
        "            rows.append((name, email, phone))\n",
        "        expected = [\n",
        "            (\"Alice\", \"alice@example.com\", \"4695551234\"),\n",
        "            (\"Bob\", \"bob@example.org\", \"9725558888\")\n",
        "        ]\n",
        "        self.assertEqual(rows, expected)\n",
        "\n",
        "if __name__ == \"__main__\":\n",
        "    import unittest\n",
        "    unittest.main(argv=[''], exit=False)\n"
      ],
      "metadata": {
        "id": "_M18cJw2NqZm",
        "colab": {
          "base_uri": "https://localhost:8080/"
        },
        "outputId": "7953a122-29bd-42b7-fc05-6117ab353b7e"
      },
      "id": "_M18cJw2NqZm",
      "execution_count": 22,
      "outputs": [
        {
          "output_type": "stream",
          "name": "stderr",
          "text": [
            ".....\n",
            "----------------------------------------------------------------------\n",
            "Ran 5 tests in 0.008s\n",
            "\n",
            "OK\n"
          ]
        }
      ]
    },
    {
      "cell_type": "markdown",
      "id": "f38af38b",
      "metadata": {
        "id": "f38af38b"
      },
      "source": [
        "## Grading rubric (total 3 pts)\n",
        "- **Q1 (1.5 pts)**  \n",
        "  - (0.4) File I/O with `pathlib` + graceful `FileNotFoundError` handling  \n",
        "  - (0.5) Email validation (regex + strip + full match) and filtering  \n",
        "  - (0.4) Phone normalization and **case-insensitive** de-duplication (keep first)  \n",
        "  - (0.2) Code clarity (names, minimal docstrings/comments)\n",
        "- **Q2 (1.5 pts)**  \n",
        "  - (0.6) Meaningful coverage for email/phone functions (valid & invalid)  \n",
        "  - (0.6) Parsing & de-dup tests that assert exact expected rows  \n",
        "  - (0.3) Standard `unittest` structure and readable test names\n"
      ]
    }
  ],
  "metadata": {
    "colab": {
      "provenance": [],
      "include_colab_link": true
    },
    "language_info": {
      "name": "python"
    },
    "kernelspec": {
      "name": "python3",
      "display_name": "Python 3"
    }
  },
  "nbformat": 4,
  "nbformat_minor": 5
}