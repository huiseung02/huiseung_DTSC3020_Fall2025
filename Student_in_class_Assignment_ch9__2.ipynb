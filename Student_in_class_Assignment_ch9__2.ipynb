{
  "nbformat": 4,
  "nbformat_minor": 0,
  "metadata": {
    "colab": {
      "provenance": [],
      "include_colab_link": true
    },
    "kernelspec": {
      "name": "python3",
      "display_name": "Python 3"
    },
    "language_info": {
      "name": "python"
    }
  },
  "cells": [
    {
      "cell_type": "markdown",
      "metadata": {
        "id": "view-in-github",
        "colab_type": "text"
      },
      "source": [
        "<a href=\"https://colab.research.google.com/github/huiseung02/huiseung_DTSC3020_Fall2025/blob/main/Student_in_class_Assignment_ch9__2.ipynb\" target=\"_parent\"><img src=\"https://colab.research.google.com/assets/colab-badge.svg\" alt=\"Open In Colab\"/></a>"
      ]
    },
    {
      "cell_type": "markdown",
      "source": [
        "create a class called InventoryItem that represents a single product in stock — for example, an apple in a grocery store. The class keeps track of the product’s name, price, quantity, and minimum stock level (the level where we might need to reorder).\n",
        "\n",
        "......\n",
        "\n",
        "When you store the attributes, convert types as follows:\n",
        "\n",
        "• name → str(name)\n",
        "\n",
        "• price → float(price)\n",
        "\n",
        "• quantity → int(quantity) (default 0)\n",
        "\n",
        "• min_stock → int(min_stock) (default 0)\n",
        "\n",
        "Validation:\n",
        "\n",
        "• If any of price, quantity, or min_stock is negative, raise ValueError with a clear message.\n",
        "\n",
        "......\n",
        "\n",
        "Methods to implement\n",
        "\n",
        "restock(self, qty)\n",
        "• If qty is negative, raise ValueError.\n",
        "\n",
        "• Otherwise, increase quantity by qty.\n",
        "\n",
        "sell(self, qty)\n",
        "• If qty is not positive (≤ 0), raise ValueError.\n",
        "\n",
        "• If there is enough stock (self.quantity >= qty), decrease quantity by qty and return True.\n",
        "\n",
        "• Otherwise, return False (do not change quantity).\n",
        "\n",
        "value(self)\n",
        "• Return the total value of this item in stock:\n",
        "\n",
        "price * quantity (a float).\n",
        "\n",
        "repr(self)\n",
        "Provide a readable text description of the object when printed.\n",
        "\n",
        "return (f\"InventoryItem(name={self.name}, price={self.price}, \" f\"qty={self.quantity}, min_stock={self.min_stock})\")\n",
        "\n",
        "........\n",
        "\n",
        "• Return a developer-friendly string that shows all fields, for example: InventoryItem(name='Apple', price=0.5, quantity=3, min_stock=1)"
      ],
      "metadata": {
        "id": "vW98iSj6mCjt"
      }
    },
    {
      "cell_type": "code",
      "execution_count": 1,
      "metadata": {
        "id": "Hayuin-1lkgP"
      },
      "outputs": [],
      "source": [
        "# Write your answer here\n",
        "\n",
        "class InventoryItem:\n",
        "\n",
        "  def __init__(self, name, price, quantity=0, min_stock=0):\n",
        "    self.name = str(name)\n",
        "    self.price = float(price)\n",
        "    self.quantity = int(quantity)\n",
        "    self.min_stock = int(min_stock)\n",
        "\n",
        "    if self.price < 0 or self.quantity < 0 or self.min_stock < 0:\n",
        "      raise ValueError(\"Should be positive\")\n",
        "\n",
        "  def restock(self, qty):\n",
        "    if qty < 0:\n",
        "      raise ValueError(\"Should be positive\")\n",
        "    self.quantity += qty\n",
        "\n",
        "  def sell(self, qty):\n",
        "    if qty <= 0:\n",
        "      raise ValueError(\"Should be positive\")\n",
        "    if self.quantity >= qty:\n",
        "      self.quantity -= qty\n",
        "      return True\n",
        "    else:\n",
        "      return False\n",
        "\n",
        "  def value(self):\n",
        "    return self.price * self.quantity\n",
        "\n",
        "  def __repr__(self):\n",
        "    return (f\"InventoryItem(name={self.name}, price={self.price}, \" f\"qty={self.quantity}, min_stock={self.min_stock})\")\n"
      ]
    },
    {
      "cell_type": "code",
      "source": [
        "inv_1 = InventoryItem(\"Apple\",1,3,1)\n",
        "print(inv_1)"
      ],
      "metadata": {
        "colab": {
          "base_uri": "https://localhost:8080/"
        },
        "id": "2K1hfBmB-IbZ",
        "outputId": "640b6aa7-da5e-4408-ab4b-fcae20935d65"
      },
      "execution_count": 2,
      "outputs": [
        {
          "output_type": "stream",
          "name": "stdout",
          "text": [
            "InventoryItem(name=Apple, price=1.0, qty=3, min_stock=1)\n"
          ]
        }
      ]
    }
  ]
}