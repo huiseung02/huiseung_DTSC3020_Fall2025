{
  "nbformat": 4,
  "nbformat_minor": 0,
  "metadata": {
    "colab": {
      "provenance": [],
      "include_colab_link": true
    },
    "kernelspec": {
      "name": "python3",
      "display_name": "Python 3"
    },
    "language_info": {
      "name": "python"
    }
  },
  "cells": [
    {
      "cell_type": "markdown",
      "metadata": {
        "id": "view-in-github",
        "colab_type": "text"
      },
      "source": [
        "<a href=\"https://colab.research.google.com/github/huiseung02/huiseung_DTSC3020_Fall2025/blob/main/Student_In_Class_Assignment_Ch_7_(1).ipynb\" target=\"_parent\"><img src=\"https://colab.research.google.com/assets/colab-badge.svg\" alt=\"Open In Colab\"/></a>"
      ]
    },
    {
      "cell_type": "markdown",
      "source": [
        "#Write a Python program that simulates a self-checkout system.**\n",
        "Use this price list: prices: apple= 1 ,  bread= 2.5 ,  milk=5 ,  egg= 6\n",
        "\n",
        "Program requirements:\n",
        "\n",
        "The program should repeatedly ask the user to enter an item name or enter \"pay\".\n",
        "\n",
        "\n",
        "• Valid inputs are the names of the **items above ** or the word \"pay\".\n",
        "\n",
        "\n",
        "If the entered item exists in the price list:\n",
        "\n",
        "• Add its price to the running total.\n",
        "\n",
        "\n",
        "• Print the message: \"Added , running total: $\".\n",
        "\n",
        "\n",
        "If the entered item does not exist in the price list:\n",
        "\n",
        "• Print \"Item not found\".\n",
        "\n",
        "If the user types \"pay\":\n",
        "\n",
        "• Stop asking for input.\n",
        "\n",
        "Show the following three values:\n",
        "\n",
        "\n",
        "**Subtotal: the sum of all valid items entered.**\n",
        "\n",
        "**Tax: 8% of the subtotal. (0.08 * total)**\n",
        "\n",
        "**Final total: subtotal + tax.**\n",
        "\n",
        "\n",
        "Run your program with this purchase list. For example, for one person whose purchase is:apple, pizza, bread, pay *italicised text*"
      ],
      "metadata": {
        "id": "t1xs1X02Owtz"
      }
    },
    {
      "cell_type": "code",
      "execution_count": 35,
      "metadata": {
        "id": "nTH6mvq1OqHP",
        "colab": {
          "base_uri": "https://localhost:8080/"
        },
        "outputId": "86cb4296-104e-4872-e268-97f797a919d5"
      },
      "outputs": [
        {
          "output_type": "stream",
          "name": "stdout",
          "text": [
            "Enter an item name or enter 'pay':apple\n",
            "Added , runnning total: 1 $\n",
            "Enter an item name or enter 'pay':pizza\n",
            "Item not found\n",
            "Enter an item name or enter 'pay':bread\n",
            "Added , runnning total: 3.5 $\n",
            "Enter an item name or enter 'pay':pay\n",
            "Subtotal: 3.5 $\n",
            "Tax: 0.28 $\n",
            "Final total: 3.7800000000000002 $\n"
          ]
        }
      ],
      "source": [
        "# write your code here\n",
        "prices = {\"apple\": 1, \"bread\": 2.5, \"milk\": 5, \"egg\": 6}\n",
        "total = 0\n",
        "\n",
        "while True:\n",
        "  x = input(\"Enter an item name or enter 'pay':\")\n",
        "  if x in prices:\n",
        "    total += prices[x]\n",
        "    print(\"Added , runnning total:\", total,\"$\")\n",
        "\n",
        "  elif x == \"pay\":\n",
        "    break\n",
        "\n",
        "  else:\n",
        "    print(\"Item not found\")\n",
        "    continue\n",
        "\n",
        "\n",
        "print(\"Subtotal:\", total,\"$\")\n",
        "print(\"Tax:\", total*0.08,\"$\")\n",
        "print(\"Final total:\", total*1.08,\"$\")\n",
        "\n",
        "\n",
        ""
      ]
    }
  ]
}