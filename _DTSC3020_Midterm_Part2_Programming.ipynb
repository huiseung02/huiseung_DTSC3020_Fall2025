{
  "cells": [
    {
      "cell_type": "markdown",
      "metadata": {
        "id": "view-in-github",
        "colab_type": "text"
      },
      "source": [
        "<a href=\"https://colab.research.google.com/github/huiseung02/huiseung_DTSC3020_Fall2025/blob/main/_DTSC3020_Midterm_Part2_Programming.ipynb\" target=\"_parent\"><img src=\"https://colab.research.google.com/assets/colab-badge.svg\" alt=\"Open In Colab\"/></a>"
      ]
    },
    {
      "cell_type": "markdown",
      "id": "8e58db4f",
      "metadata": {
        "id": "8e58db4f"
      },
      "source": [
        "# DTSC 3020 — Midterm Exam (Part 2: Programming)\n",
        "University of North Texas\n",
        "\n",
        "**Course:** Introduction to Computation with Python (DTSC 3020)  \n",
        "**Exam:** Midterm — Programming (Ch. 1–8 concepts)\n",
        "\n"
      ]
    },
    {
      "cell_type": "markdown",
      "id": "ed86aaec",
      "metadata": {
        "id": "ed86aaec"
      },
      "source": [
        "---\n",
        "### Instructions\n",
        "- Write clean, readable Python code for each question.\n",
        "- Use only standard Python; no external libraries.\n",
        "- Where required, write a function and return the result.\n",
        "- After each solution cell, there is a **Part 2 — Test Scenario**. Follow the prompt to run your code.\n",
        "\n",
        "---"
      ]
    },
    {
      "cell_type": "markdown",
      "id": "227c4435",
      "metadata": {
        "id": "227c4435"
      },
      "source": [
        "## Question 1 — Create Member ID\n",
        "Write a Python function `create_member_id(full_name)` that creates a Library Member ID from a person’s full name.\n",
        "\n",
        "**Rules**\n",
        "- Normalize the name: remove extra spaces, convert to lowercase, and split by spaces.\n",
        "- Use the last word as the last name (e.g., `\"John Ronald Reuel Tolkien\"` → last name `tolkien`).\n",
        "- Use the first letters of all earlier words as initials (e.g., `jrr` for the example above).\n",
        "- Construct the member ID in this exact format: `lastname_initials` (underscore between them; no spaces).\n",
        "\n",
        "**Examples**\n",
        "- `\"Sara Amini\"` → `amini_sa`\n",
        "- `\"Mary Jane Watson\"` → `watson_mj`\n",
        "- `\"LINA\"` (single word) → use the word for both parts: `lina_l`\n",
        "\n",
        "Part 2 — Test Scenario (run using your function)\n",
        "names = [\"Sara Amini\", \"Ali\", \"Mary Jane\", \"John Smith\", \"LINA\", \"madonna\", \"sara amini\"]\n",
        "\n",
        "\n",
        "\n"
      ]
    },
    {
      "cell_type": "code",
      "execution_count": 21,
      "id": "51411a35",
      "metadata": {
        "id": "51411a35"
      },
      "outputs": [],
      "source": [
        "# Write your answer here for Q1\n",
        "\n",
        "def create_member_id(full_name):\n",
        "  full_name = full_name.lower().strip()\n",
        "  full_name = full_name.split()\n",
        "  last_name = full_name[-1]\n",
        "  initials = \"\"\n",
        "  if len(full_name) > 2:\n",
        "    for name in full_name[:-1]:\n",
        "      initials += name[0]\n",
        "  elif len(full_name) == 1:\n",
        "    initials = last_name[0]\n",
        "  else:\n",
        "    initials = full_name[0][0]+full_name[0][1]\n",
        "\n",
        "  full_name = last_name + \"_\" + initials\n",
        "  return full_name\n"
      ]
    },
    {
      "cell_type": "code",
      "execution_count": 24,
      "id": "584ae4f0",
      "metadata": {
        "id": "584ae4f0",
        "colab": {
          "base_uri": "https://localhost:8080/"
        },
        "outputId": "9348278f-73aa-40d9-8e40-1a07ad55632d"
      },
      "outputs": [
        {
          "output_type": "stream",
          "name": "stdout",
          "text": [
            "amini_sa\n",
            "ali_a\n",
            "jane_ma\n",
            "smith_jo\n",
            "lina_l\n",
            "madonna_m\n",
            "amini_sa\n"
          ]
        }
      ],
      "source": [
        "# Part 2 — Test Scenario (run using your function)\n",
        "names = [\"Sara Amini\", \"Ali\", \"Mary Jane\", \"John Smith\", \"LINA\", \"madonna\", \"sara amini\"]\n",
        "\n",
        "for name in names:\n",
        "  print(create_member_id(name))\n"
      ]
    },
    {
      "cell_type": "markdown",
      "id": "c1727720",
      "metadata": {
        "id": "c1727720"
      },
      "source": [
        "## Question 2 — Movie Ticket Booth\n",
        "\n",
        "Write a Python program that simulates a movie ticket booth using this price list:\n",
        "\n",
        "```python\n",
        "prices = {\"adult\": 12.5, \"child\": 8, \"senior\": 9.5, \"student\": 10}\n",
        "```\n",
        "\n",
        "**Program Requirements**\n",
        "- Repeatedly ask the user to enter a ticket type or type `done` to finish.\n",
        "- Valid inputs: `adult`, `child`, `senior`, `student`, or `done`.\n",
        "- If the ticket type exists, add its price to a running total and print a confirmation message.\n",
        "- If it doesn’t exist, print `\"Invalid ticket type\"`.\n",
        "- When the user types `done`, stop and show:\n",
        "  - **Subtotal** (sum of valid ticket prices)\n",
        "  - **Tax** = 8% of subtotal\n",
        "  - **Final total** = subtotal + tax\n"
      ]
    },
    {
      "cell_type": "code",
      "execution_count": 33,
      "id": "4b859e17",
      "metadata": {
        "id": "4b859e17",
        "colab": {
          "base_uri": "https://localhost:8080/"
        },
        "outputId": "ba3601d7-1943-491a-b533-5e7d3d4bd8d4"
      },
      "outputs": [
        {
          "output_type": "stream",
          "name": "stdout",
          "text": [
            "Enter a ticket type or type 'done' to finish: adult\n",
            "Enter a ticket type or type 'done' to finish: child\n",
            "Enter a ticket type or type 'done' to finish: student\n",
            "Enter a ticket type or type 'done' to finish: done\n",
            "subtotal:  30.5\n",
            "tax:  2.44\n",
            "final total:  32.940000000000005\n"
          ]
        }
      ],
      "source": [
        "# Write your answer here\n",
        "prices = {\"adult\": 12.5, \"child\": 8, \"senior\": 9.5, \"student\": 10}\n",
        "total = 0\n",
        "while True:\n",
        "  answer = input(\"Enter a ticket type or type 'done' to finish: \")\n",
        "  if answer == \"done\":\n",
        "    print(\"subtotal: \", total)\n",
        "    print(\"tax: \", total * 0.08)\n",
        "    print(\"final total: \", total*1.08)\n",
        "    break\n",
        "\n",
        "  elif answer in prices:\n",
        "    total += prices[answer]\n",
        "  else:\n",
        "    print(\"Invalid ticket type\")"
      ]
    },
    {
      "cell_type": "markdown",
      "id": "17b39afe",
      "metadata": {
        "id": "17b39afe"
      },
      "source": [
        "**Part 2 — Example Scenario**\n",
        "When prompted, type the following (each on a new line), then press Enter after each entry:\n",
        "\n",
        "```\n",
        "adult\n",
        "child\n",
        "student\n",
        "done\n",
        "```\n",
        "Your program should complete and display the subtotal, tax, and final total based on these entries.\n"
      ]
    },
    {
      "cell_type": "markdown",
      "id": "28c710b6",
      "metadata": {
        "id": "28c710b6"
      },
      "source": [
        "## Question 3 — Student Grade Analyzer\n",
        "\n",
        "Write a Python function `analyze_grades(grades)` that takes a list of numbers (0–100) and returns three values:\n",
        "1. average grade\n",
        "2. highest grade\n",
        "3. lowest grade\n",
        "\n",
        "**Constraints**\n",
        "- Use a function and return statement(s).\n",
        "- Do not use external libraries.\n"
      ]
    },
    {
      "cell_type": "code",
      "execution_count": 61,
      "id": "efce3052",
      "metadata": {
        "id": "efce3052"
      },
      "outputs": [],
      "source": [
        "# Write your answer here for Q3\n",
        "def analyze_grades(grades):\n",
        "  avg = sum(grades)/ len(grades)\n",
        "  highest = max(grades)\n",
        "  lowest = min(grades)\n",
        "\n",
        "  print(f\"average grade: {avg}\")\n",
        "  print(f\"higest grade: {highest}\")\n",
        "  print(f\"lowest grade: {lowest}\")\n",
        "\n"
      ]
    },
    {
      "cell_type": "code",
      "execution_count": 62,
      "id": "ad2b0d29",
      "metadata": {
        "id": "ad2b0d29",
        "colab": {
          "base_uri": "https://localhost:8080/"
        },
        "outputId": "a96e7dcb-bf08-4667-ea94-0e0c7826c84a"
      },
      "outputs": [
        {
          "output_type": "stream",
          "name": "stdout",
          "text": [
            "average grade: 85.57142857142857\n",
            "higest grade: 93\n",
            "lowest grade: 72\n"
          ]
        }
      ],
      "source": [
        "# Part 2 — Test Scenario\n",
        "sample = [88, 92, 79, 93, 85, 90, 72]\n",
        "analyze_grades(sample)\n",
        "\n"
      ]
    },
    {
      "cell_type": "markdown",
      "id": "d378f3c3",
      "metadata": {
        "id": "d378f3c3"
      },
      "source": [
        "## Question 4 — PIN Verification\n",
        "Write a Python program that simulates an ATM PIN verification system.\n",
        "\n",
        "**Requirements**\n",
        "- The correct PIN is `4321`.\n",
        "- The user has at most **3 attempts** to enter the correct PIN.\n",
        "- If the PIN is correct: print `Access granted.` and stop.\n",
        "- If all 3 attempts fail: print `Card blocked.`\n",
        "- After each wrong attempt, also print the counter in the form `Wrong (x/3)`.\n"
      ]
    },
    {
      "cell_type": "code",
      "execution_count": 63,
      "id": "5ea085a2",
      "metadata": {
        "id": "5ea085a2",
        "colab": {
          "base_uri": "https://localhost:8080/"
        },
        "outputId": "519334b3-f68c-4731-cee3-04063656665c"
      },
      "outputs": [
        {
          "output_type": "stream",
          "name": "stdout",
          "text": [
            "Enter your PIN: 1111\n",
            "Wrong (1/3)\n",
            "Enter your PIN: 2222\n",
            "Wrong (2/3)\n",
            "Enter your PIN: 4321\n",
            "Access granted.\n"
          ]
        }
      ],
      "source": [
        "# Write your answer here\n",
        "attempts = 0\n",
        "correct_pin = 4321\n",
        "\n",
        "while attempts < 3:\n",
        "  pin = int(input(\"Enter your PIN: \"))\n",
        "  if pin == correct_pin:\n",
        "    print(\"Access granted.\")\n",
        "    break\n",
        "  else:\n",
        "    attempts += 1\n",
        "    print(f\"Wrong ({attempts}/3)\")\n",
        "if attempts == 3:\n",
        "  print(\"Card blocked.\")\n",
        "\n"
      ]
    },
    {
      "cell_type": "markdown",
      "id": "1c61e343",
      "metadata": {
        "id": "1c61e343"
      },
      "source": [
        "**Part 2 — Test Scenario**\n",
        "Run your program and, when prompted, enter these sequences to verify both behaviors:\n",
        "\n",
        "**Scenario A**\n",
        "```\n",
        "1111\n",
        "2222\n",
        "4321\n",
        "```\n",
        "\n",
        "\n"
      ]
    }
  ],
  "metadata": {
    "kernelspec": {
      "display_name": "Python 3",
      "language": "python",
      "name": "python3"
    },
    "language_info": {
      "name": "python",
      "version": "3.x"
    },
    "colab": {
      "provenance": [],
      "include_colab_link": true
    }
  },
  "nbformat": 4,
  "nbformat_minor": 5
}