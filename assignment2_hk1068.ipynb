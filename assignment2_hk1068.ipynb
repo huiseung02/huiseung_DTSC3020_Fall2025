{
  "nbformat": 4,
  "nbformat_minor": 0,
  "metadata": {
    "colab": {
      "provenance": [],
      "authorship_tag": "ABX9TyN3YbX6XsKn/KkNrWv4QFND",
      "include_colab_link": true
    },
    "kernelspec": {
      "name": "python3",
      "display_name": "Python 3"
    },
    "language_info": {
      "name": "python"
    }
  },
  "cells": [
    {
      "cell_type": "markdown",
      "metadata": {
        "id": "view-in-github",
        "colab_type": "text"
      },
      "source": [
        "<a href=\"https://colab.research.google.com/github/huiseung02/huiseung_DTSC3020_Fall2025/blob/main/assignment2_hk1068.ipynb\" target=\"_parent\"><img src=\"https://colab.research.google.com/assets/colab-badge.svg\" alt=\"Open In Colab\"/></a>"
      ]
    },
    {
      "cell_type": "code",
      "execution_count": 29,
      "metadata": {
        "colab": {
          "base_uri": "https://localhost:8080/"
        },
        "id": "phRKP-Zed1ly",
        "outputId": "ec70bb44-ea60-4bc9-d54f-8217768c92c3"
      },
      "outputs": [
        {
          "output_type": "stream",
          "name": "stdout",
          "text": [
            "['watermelon', 'apple', 'mango']\n",
            "watermelon\n",
            "apple\n",
            "mango\n"
          ]
        }
      ],
      "source": [
        "# 1\n",
        "fruits = [\"watermelon\",\"apple\",\"mango\"]\n",
        "print(fruits)\n",
        "print(fruits[0])\n",
        "print(fruits[1])\n",
        "print(fruits[2])\n",
        "\n"
      ]
    },
    {
      "cell_type": "code",
      "source": [
        "#2\n",
        "names = [\"Kim\",\"Lee\",\"Kang\",\"Park\"]\n",
        "names[0] = \"Nam\"\n",
        "print(names)"
      ],
      "metadata": {
        "colab": {
          "base_uri": "https://localhost:8080/"
        },
        "id": "Enic0oETmZ4S",
        "outputId": "bd7f676a-56cb-48da-d622-3abb541b38f9"
      },
      "execution_count": 30,
      "outputs": [
        {
          "output_type": "stream",
          "name": "stdout",
          "text": [
            "['Nam', 'Lee', 'Kang', 'Park']\n"
          ]
        }
      ]
    },
    {
      "cell_type": "code",
      "source": [
        "#3\n",
        "vehicles = [\"car\",\"bus\",\"bike\",\"subway\",\"train\"]\n",
        "vehicles.append(\"motorcycle\")\n",
        "print(vehicles)"
      ],
      "metadata": {
        "colab": {
          "base_uri": "https://localhost:8080/"
        },
        "id": "hPPcA9fCm_gF",
        "outputId": "5f570f23-ce65-45cb-87d1-616b6859adf4"
      },
      "execution_count": 31,
      "outputs": [
        {
          "output_type": "stream",
          "name": "stdout",
          "text": [
            "['car', 'bus', 'bike', 'subway', 'train', 'motorcycle']\n"
          ]
        }
      ]
    },
    {
      "cell_type": "code",
      "source": [
        "#4\n",
        "foods = [\"pasta\",\"pizza\",\"hamburger\",\"chicken\",\"salad\",\"rice\"]\n",
        "foods.remove(\"pizza\")\n",
        "print(foods)"
      ],
      "metadata": {
        "colab": {
          "base_uri": "https://localhost:8080/"
        },
        "id": "UFMiy76Qnkp7",
        "outputId": "a39369e9-b324-4cec-9d56-7a329f30f1f8"
      },
      "execution_count": 32,
      "outputs": [
        {
          "output_type": "stream",
          "name": "stdout",
          "text": [
            "['pasta', 'hamburger', 'chicken', 'salad', 'rice']\n"
          ]
        }
      ]
    },
    {
      "cell_type": "code",
      "source": [
        "#5\n",
        "cities = [\"NewYork\",\"Paris\",\"Seoul\",\"London\"]\n",
        "cities.sort()\n",
        "print(cities)\n",
        "cities.reverse()\n",
        "print(cities)"
      ],
      "metadata": {
        "colab": {
          "base_uri": "https://localhost:8080/"
        },
        "id": "kqCKIQ2qoA1E",
        "outputId": "75cdc087-f452-4f6e-a854-e3c79f61a797"
      },
      "execution_count": 13,
      "outputs": [
        {
          "output_type": "stream",
          "name": "stdout",
          "text": [
            "['London', 'NewYork', 'Paris', 'Seoul']\n",
            "['Seoul', 'Paris', 'NewYork', 'London']\n"
          ]
        }
      ]
    },
    {
      "cell_type": "code",
      "source": [
        "#6\n",
        "animals = [\"lion\",\"tiger\",\"rabbit\"]\n",
        "for animal in animals:\n",
        "  print(animal)"
      ],
      "metadata": {
        "colab": {
          "base_uri": "https://localhost:8080/"
        },
        "id": "gxZjyD5poh7j",
        "outputId": "dcd14f21-63a2-4e10-a8d2-111c9044c09d"
      },
      "execution_count": 14,
      "outputs": [
        {
          "output_type": "stream",
          "name": "stdout",
          "text": [
            "lion\n",
            "tiger\n",
            "rabbit\n"
          ]
        }
      ]
    },
    {
      "cell_type": "code",
      "source": [
        "#7\n",
        "numbers = [1,2,3,4,5]\n",
        "print(numbers)\n",
        "\n",
        "multiples = []\n",
        "for k in numbers:\n",
        "  multiple = k*2\n",
        "  multiples.append(multiple)\n",
        "\n",
        "print(multiples)"
      ],
      "metadata": {
        "colab": {
          "base_uri": "https://localhost:8080/"
        },
        "id": "AyY8MpYTpAR8",
        "outputId": "2c3b143e-4585-4d10-a338-9ed1c612b1bf"
      },
      "execution_count": 26,
      "outputs": [
        {
          "output_type": "stream",
          "name": "stdout",
          "text": [
            "[1, 2, 3, 4, 5]\n",
            "[2, 4, 6, 8, 10]\n"
          ]
        }
      ]
    },
    {
      "cell_type": "code",
      "source": [
        "#8\n",
        "friends = [\"Lee\",\"Kim\",\"Noh\",\"Park\",\"Nam\",\"Joo\"]\n",
        "print(\"first three friends:\",friends[0:3])\n",
        "print(\"last three friends:\",friends[3:])"
      ],
      "metadata": {
        "colab": {
          "base_uri": "https://localhost:8080/"
        },
        "id": "Xiq6s-yYpsoU",
        "outputId": "3f6ecc0d-462c-44bf-8449-d7bb1ea13610"
      },
      "execution_count": 24,
      "outputs": [
        {
          "output_type": "stream",
          "name": "stdout",
          "text": [
            "first three friends: ['Lee', 'Kim', 'Noh']\n",
            "last three friends: ['Park', 'Nam', 'Joo']\n"
          ]
        }
      ]
    },
    {
      "cell_type": "code",
      "source": [
        "#9\n",
        "nums = list(range(1,11))\n",
        "print(nums)"
      ],
      "metadata": {
        "colab": {
          "base_uri": "https://localhost:8080/"
        },
        "id": "sqW3qEwDqgLz",
        "outputId": "7ee17480-f5aa-448c-c976-9033f1d0c379"
      },
      "execution_count": 27,
      "outputs": [
        {
          "output_type": "stream",
          "name": "stdout",
          "text": [
            "[1, 2, 3, 4, 5, 6, 7, 8, 9, 10]\n"
          ]
        }
      ]
    },
    {
      "cell_type": "code",
      "source": [
        "#10\n",
        "comp = [k**2 for k in range(1,6)]\n",
        "print(comp)"
      ],
      "metadata": {
        "colab": {
          "base_uri": "https://localhost:8080/"
        },
        "id": "X-jdAbDgrEV7",
        "outputId": "fa566146-2c7f-4780-8ec5-1636b1b8de3b"
      },
      "execution_count": 28,
      "outputs": [
        {
          "output_type": "stream",
          "name": "stdout",
          "text": [
            "[1, 4, 9, 16, 25]\n"
          ]
        }
      ]
    }
  ]
}